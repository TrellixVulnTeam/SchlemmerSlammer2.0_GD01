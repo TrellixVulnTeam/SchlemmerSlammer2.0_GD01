{
 "cells": [
  {
   "cell_type": "markdown",
   "metadata": {},
   "source": [
    "# SchlemmerSlammer - Neural Network for recipes"
   ]
  },
  {
   "cell_type": "markdown",
   "metadata": {},
   "source": [
    "### 1. Teammembers\n",
    "#### Maxim Bex\n",
    "research, documentation, concept, coding\n",
    "#### Hannes Gelbhardt\n",
    "coding, research, concept, documentation\n",
    "#### York Smeddinck\n",
    "documentation, concept, coding, research\n"
   ]
  },
  {
   "cell_type": "markdown",
   "metadata": {},
   "source": [
    "### 2. Problem Description\n",
    "We thought about training an AI to recommend / create recipes based on given attributes (e.g. rating, certain ingredients (include / exclude), calories, sodium, fat, FODMAP, etc.pp.). The following graphic is an entity relationship diagram for recipes, which we created to get a better understanding of the nature and complexity of our problem.\n",
    "\n",
    "Since this would be a rather complex system to begin with, we decided to break the problem down, and start with a smaller application first. Thus we are trying to train a neural network to recommend recipe ingredients based on given ingredients.\n",
    "\n",
    "\n",
    "#### General Knowledge\n",
    "One of the more basic problems we face when we talking about natural language processing is that - in difference to humans - computers can just understand numbers, more specific ones and zeroes. It is not too hard to represent a language's syntax in numbers, but if we try to get meaning and context into language, humans are way better in understanding each other. The main reason for that is that humans often times have a similar context (background knowledge) so sometimes they even can communicate without words. To make this more clear, when we talk about cooking each human probably have a similar concept of preparing food in mind, but a computer just understands the word cooking out of it’s language context without actual knowing or understanding what it means.\n"
   ]
  },
  {
   "cell_type": "markdown",
   "metadata": {},
   "source": [
    "## 3. Dataset description\n",
    "### Source: https://www.kaggle.com/hugodarwood/epirecipes\n",
    "The Dataset is a collection of about 21000 recipes given in a .csv and .json format, where the json file contained all information of the recipes and the .csv file is basically a list of attributes and ingredients for all recipes. We opted for using the json file, which includes more context of the ingredients (e.g. 3 evenly chopped tomatoes) compared to the csv file (e.g. 3 tomatoes), which should result in a more complex model.\n",
    "### Processing the data:\n",
    "Because we put our focus on the relationship of ingredients, we preprocess the data from the json format into a textfile consisting of single line listings of the recipes ingredients, excluding special characters (see variable badchars in the code below.)\n",
    "#### Problems during preprocessing\n",
    "The first problem was that the windows command line could not process specific characters of the dataset, which first was solved by setting the command line charset to \"UTF - 8\" Unfortunately we just could read and process about 700 recipes, but not all.\n",
    "\n",
    "Our solution to this was to do all the preprocessing through a python script (see below).\n",
    "\n",
    "Another problem were the unwanted “bad” characters (basically all symbols that are not letters) and how to exclude them.\n",
    "Our solution is to check every single word for said bad characters and to replace those with an empty space.\n",
    "\n",
    "Also we discussed whether to keep numbers (e.g. ¾) and measurement units (e.g. tbsp or cup), but we decided that our neural network would probably benefit from being able to put those aspects into context as well,so we kept them included. \n"
   ]
  },
  {
   "cell_type": "code",
   "execution_count": null,
   "metadata": {},
   "outputs": [],
   "source": [
    "#preprocessing for our interpreter of the neural network\n",
    "\n",
    "import codecs\n",
    "import json\n",
    "\n",
    "badchars = set(\"0123456789(),-*\\\"'<>|:/%;\\\\\")\n",
    "\n",
    "with open('full_format_recipes.json') as json_file:  \n",
    "    data = json.load(json_file)\n",
    "    outFile = \"./preProcessedData.txt\"\n",
    "    with codecs.open (outFile, \"w\", \"utf-8-sig\") as f:\n",
    "        for recipe in data:\n",
    "            try:\n",
    "                ingredients = recipe['ingredients']\n",
    "                for ingredient in ingredients:\n",
    "                    for c in badchars:\n",
    "                        ingredient = ingredient.replace(c,'')\n",
    "                    if len(ingredient) > 1:\n",
    "                        try:\n",
    "                            f.write(ingredient+\" \")\n",
    "                        except UnicodeEncodeError:\n",
    "                            print(\"UnicodeEncodeError\")\n",
    "                f.write(\"\\n\")\n",
    "            except KeyError:\n",
    "                print(\"KeyError: No ingredients listed in the recipe.\")"
   ]
  },
  {
   "cell_type": "code",
   "execution_count": 1,
   "metadata": {},
   "outputs": [],
   "source": [
    "#imports\n",
    "import codecs\n",
    "import d2l\n",
    "import sys\n",
    "sys.path.insert(0, '..')\n",
    "import pandas as pd\n",
    "\n",
    "import collections\n",
    "import math\n",
    "from mxnet import autograd, gluon, nd\n",
    "from mxnet.gluon import data as gdata, loss as gloss, nn\n",
    "import random\n",
    "import sys\n",
    "import collections\n",
    "import time\n",
    "import json\n",
    "import numpy as np\n",
    "\n",
    "# Get the interactive Tools for Matplotlib\n",
    "%matplotlib notebook\n",
    "import matplotlib.pyplot as plt\n",
    "plt.style.use('ggplot')\n",
    "\n",
    "#For the visualisation\n",
    "from sklearn.decomposition import PCA\n",
    "from sklearn.manifold import TSNE\n",
    "\n",
    "#For Glove and Word2Vec\n",
    "from gensim.test.utils import datapath, get_tmpfile\n",
    "from gensim.models import KeyedVectors\n",
    "from gensim.models import Word2Vec\n",
    "from gensim.scripts.glove2word2vec import glove2word2vec\n"
   ]
  },
  {
   "cell_type": "markdown",
   "metadata": {},
   "source": [
    "Read the number of lines to get an idea how many recipes we are working with"
   ]
  },
  {
   "cell_type": "code",
   "execution_count": 2,
   "metadata": {},
   "outputs": [
    {
     "data": {
      "text/plain": [
       "[['cups',\n",
       "  'lowsodium',\n",
       "  'vegetable',\n",
       "  'or',\n",
       "  'chicken',\n",
       "  'stock',\n",
       "  'cup',\n",
       "  'dried',\n",
       "  'brown',\n",
       "  'lentils',\n",
       "  'cup',\n",
       "  'dried',\n",
       "  'French',\n",
       "  'green',\n",
       "  'lentils',\n",
       "  'stalks',\n",
       "  'celery',\n",
       "  'chopped',\n",
       "  'large',\n",
       "  'carrot',\n",
       "  'peeled',\n",
       "  'and',\n",
       "  'chopped',\n",
       "  'sprig',\n",
       "  'fresh',\n",
       "  'thyme',\n",
       "  'teaspoon',\n",
       "  'kosher',\n",
       "  'salt',\n",
       "  'medium',\n",
       "  'tomato',\n",
       "  'cored',\n",
       "  'seeded',\n",
       "  'and',\n",
       "  'diced',\n",
       "  'small',\n",
       "  'Fuji',\n",
       "  'apple',\n",
       "  'cored',\n",
       "  'and',\n",
       "  'diced',\n",
       "  'tablespoon',\n",
       "  'freshly',\n",
       "  'squeezed',\n",
       "  'lemon',\n",
       "  'juice',\n",
       "  'teaspoons',\n",
       "  'extravirgin',\n",
       "  'olive',\n",
       "  'oil',\n",
       "  'Freshly',\n",
       "  'ground',\n",
       "  'black',\n",
       "  'pepper',\n",
       "  'to',\n",
       "  'taste',\n",
       "  'sheets',\n",
       "  'wholewheat',\n",
       "  'lavash',\n",
       "  'cut',\n",
       "  'in',\n",
       "  'half',\n",
       "  'crosswise',\n",
       "  'or',\n",
       "  'inch',\n",
       "  'flour',\n",
       "  'tortillas',\n",
       "  'pound',\n",
       "  'turkey',\n",
       "  'breast',\n",
       "  'thinly',\n",
       "  'sliced',\n",
       "  'head',\n",
       "  'Bibb',\n",
       "  'lettuce'],\n",
       " ['cups',\n",
       "  'whipping',\n",
       "  'cream',\n",
       "  'medium',\n",
       "  'onions',\n",
       "  'chopped',\n",
       "  'teaspoons',\n",
       "  'salt',\n",
       "  'bay',\n",
       "  'leaves',\n",
       "  'whole',\n",
       "  'cloves',\n",
       "  'large',\n",
       "  'garlic',\n",
       "  'clove',\n",
       "  'crushed',\n",
       "  'teaspoon',\n",
       "  'pepper',\n",
       "  'teaspoon',\n",
       "  'ground',\n",
       "  'nutmeg',\n",
       "  'Pinch',\n",
       "  'of',\n",
       "  'dried',\n",
       "  'thyme',\n",
       "  'crumbled',\n",
       "  'large',\n",
       "  'shallots',\n",
       "  'minced',\n",
       "  'tablespoon',\n",
       "  'butter',\n",
       "  'pound',\n",
       "  'trimmed',\n",
       "  'boneless',\n",
       "  'center',\n",
       "  'pork',\n",
       "  'loin',\n",
       "  'sinew',\n",
       "  'removed',\n",
       "  'cut',\n",
       "  'into',\n",
       "  'inch',\n",
       "  'chunks',\n",
       "  'well',\n",
       "  'chilled',\n",
       "  'eggs',\n",
       "  'tablespoon',\n",
       "  'all',\n",
       "  'purpose',\n",
       "  'flour',\n",
       "  'cup',\n",
       "  'tawny',\n",
       "  'Port',\n",
       "  'tablespoons',\n",
       "  'dried',\n",
       "  'currants',\n",
       "  'minced',\n",
       "  'Lettuce',\n",
       "  'leaves',\n",
       "  'Cracked',\n",
       "  'peppercorns',\n",
       "  'Minced',\n",
       "  'fresh',\n",
       "  'parsley',\n",
       "  'Bay',\n",
       "  'leaves',\n",
       "  'French',\n",
       "  'bread',\n",
       "  'baguette',\n",
       "  'slices',\n",
       "  'tablespoons',\n",
       "  'olive',\n",
       "  'oil',\n",
       "  'large',\n",
       "  'red',\n",
       "  'onions',\n",
       "  'halved',\n",
       "  'sliced',\n",
       "  'tablespoons',\n",
       "  'dried',\n",
       "  'currants',\n",
       "  'tablespoons',\n",
       "  'red',\n",
       "  'wine',\n",
       "  'vinegar',\n",
       "  'tablespoons',\n",
       "  'canned',\n",
       "  'chicken',\n",
       "  'broth',\n",
       "  'teaspoons',\n",
       "  'chopped',\n",
       "  'fresh',\n",
       "  'thyme',\n",
       "  'or',\n",
       "  'teaspoon',\n",
       "  'dried',\n",
       "  'crumbled',\n",
       "  'teaspoon',\n",
       "  'sugar']]"
      ]
     },
     "execution_count": 2,
     "metadata": {},
     "output_type": "execute_result"
    }
   ],
   "source": [
    "#reading preprocessed data\n",
    "with codecs.open('./preProcessedData.txt', 'r', 'utf-8-sig') as f:\n",
    "    lines = f.readlines()\n",
    "    ingredients = [st.split() for st in lines]\n",
    "'# sentences: %d' % len(lines)\n",
    "ingredients[:2]"
   ]
  },
  {
   "cell_type": "code",
   "execution_count": 3,
   "metadata": {},
   "outputs": [],
   "source": [
    "#rearranging all ingredients into a single array, for later comparison\n",
    "ingredients_single = []\n",
    "for recipe in ingredients:\n",
    "    for item in recipe:\n",
    "        if item not in ingredients_single:\n",
    "            ingredients_single.append(item)"
   ]
  },
  {
   "cell_type": "markdown",
   "metadata": {},
   "source": [
    "To get a more meaningful result, delete the tokens, which come less then 3 times in the dataset"
   ]
  },
  {
   "cell_type": "code",
   "execution_count": 4,
   "metadata": {},
   "outputs": [],
   "source": [
    "#remove rare tokens\n",
    "counter = collections.Counter([tk for st in ingredients for tk in st])\n",
    "counter = dict(filter(lambda x: x[1] >= 3, counter.items()))"
   ]
  },
  {
   "cell_type": "markdown",
   "metadata": {},
   "source": [
    "count the total number of tokens in the dataset"
   ]
  },
  {
   "cell_type": "code",
   "execution_count": 5,
   "metadata": {},
   "outputs": [
    {
     "data": {
      "text/plain": [
       "'# tokens: 915637'"
      ]
     },
     "execution_count": 5,
     "metadata": {},
     "output_type": "execute_result"
    }
   ],
   "source": [
    "#tokencount\n",
    "idx_to_token = [tk for tk, _ in counter.items()]\n",
    "token_to_idx = {tk: idx for idx, tk in enumerate(idx_to_token)}\n",
    "dataset = [[token_to_idx[tk] for tk in st if tk in token_to_idx]\n",
    "           for st in ingredients]\n",
    "num_tokens = sum([len(st) for st in dataset])\n",
    "'# tokens: %d' % num_tokens"
   ]
  },
  {
   "cell_type": "markdown",
   "metadata": {},
   "source": [
    "To make the relationship between the most frequent words and the less frequent ones more meaningful and have a better performance, we used subsampling and print out the result of the reduced dataset"
   ]
  },
  {
   "cell_type": "code",
   "execution_count": 6,
   "metadata": {},
   "outputs": [
    {
     "data": {
      "text/plain": [
       "'# tokens: 256288'"
      ]
     },
     "execution_count": 6,
     "metadata": {},
     "output_type": "execute_result"
    }
   ],
   "source": [
    "#subsampling\n",
    "def discard(idx):\n",
    "    return random.uniform(0, 1) < 1 - math.sqrt(\n",
    "        1e-4 / counter[idx_to_token[idx]] * num_tokens)\n",
    "\n",
    "subsampled_dataset = [[tk for tk in st if not discard(tk)] for st in dataset]\n",
    "'# tokens: %d' % sum([len(st) for st in subsampled_dataset])"
   ]
  },
  {
   "cell_type": "markdown",
   "metadata": {},
   "source": [
    "For comparison we count the occurrence of the frequently used word \"cup\" before and after subsampling"
   ]
  },
  {
   "cell_type": "code",
   "execution_count": 7,
   "metadata": {},
   "outputs": [
    {
     "data": {
      "text/plain": [
       "'# cup: before=43072, after=1893'"
      ]
     },
     "execution_count": 7,
     "metadata": {},
     "output_type": "execute_result"
    }
   ],
   "source": [
    "#compare token frequency before and after subsampling for the word \"cup\"\n",
    "def compare_counts(token):\n",
    "    return '# %s: before=%d, after=%d' % (token, sum(\n",
    "        [st.count(token_to_idx[token]) for st in dataset]), sum(\n",
    "        [st.count(token_to_idx[token]) for st in subsampled_dataset]))\n",
    "\n",
    "compare_counts('cup')"
   ]
  },
  {
   "cell_type": "code",
   "execution_count": 8,
   "metadata": {},
   "outputs": [],
   "source": [
    "#defining contexts of each word in the dataset\n",
    "def get_centers_and_contexts(dataset, max_window_size):\n",
    "    centers, contexts = [], []\n",
    "    for st in dataset:\n",
    "        if len(st) < 2:\n",
    "            continue\n",
    "        centers += st\n",
    "        for center_i in range(len(st)):\n",
    "            window_size = random.randint(1, max_window_size)\n",
    "            indices = list(range(max(0, center_i - window_size),\n",
    "                                 min(len(st), center_i + 1 + window_size)))\n",
    "            indices.remove(center_i)\n",
    "            contexts.append([st[idx] for idx in indices])\n",
    "    return centers, contexts"
   ]
  },
  {
   "cell_type": "code",
   "execution_count": 9,
   "metadata": {},
   "outputs": [
    {
     "name": "stdout",
     "output_type": "stream",
     "text": [
      "dataset [[0, 1, 2, 3, 4, 5, 6], [7, 8, 9]]\n",
      "center 0 has contexts [1, 2]\n",
      "center 1 has contexts [0, 2, 3]\n",
      "center 2 has contexts [0, 1, 3, 4]\n",
      "center 3 has contexts [1, 2, 4, 5]\n",
      "center 4 has contexts [3, 5]\n",
      "center 5 has contexts [4, 6]\n",
      "center 6 has contexts [4, 5]\n",
      "center 7 has contexts [8]\n",
      "center 8 has contexts [7, 9]\n",
      "center 9 has contexts [8]\n"
     ]
    }
   ],
   "source": [
    "#demonstration of context\n",
    "tiny_dataset = [list(range(7)), list(range(7, 10))]\n",
    "print('dataset', tiny_dataset)\n",
    "for center, context in zip(*get_centers_and_contexts(tiny_dataset, 2)):\n",
    "    print('center', center, 'has contexts', context)"
   ]
  },
  {
   "cell_type": "markdown",
   "metadata": {},
   "source": [
    "In the following steps we implement the Skip-Gram Model. The first thing to do is trying to give the single words a context based meaning, so that in our previously giving example “I cook carrots” or “I cook potatoes” carrots, potatoes and cooking are closely related. On the top trough subsampling the performance of the later training part will be better, because the dataset is smaller"
   ]
  },
  {
   "cell_type": "code",
   "execution_count": 10,
   "metadata": {},
   "outputs": [],
   "source": [
    "#test example, extracting words to the context max window size of 5\n",
    "all_centers, all_contexts = get_centers_and_contexts(subsampled_dataset, 5)"
   ]
  },
  {
   "cell_type": "markdown",
   "metadata": {},
   "source": [
    "Negative sampling is a second mechanism to improve the perfomance of the training part and also to get slightly better results. In the word representation after each  “going trough” the weights of all other words except the target word should be updated, which would need an enormous amount of computing power. In negative sampling we just pick a few, randomly chosen words which don’t occur in the context and change there weights related to the target word.\n"
   ]
  },
  {
   "cell_type": "code",
   "execution_count": 11,
   "metadata": {},
   "outputs": [],
   "source": [
    "#Negative sampling for training\n",
    "def get_negatives(all_contexts, sampling_weights, K):\n",
    "    all_negatives, neg_candidates, i = [], [], 0\n",
    "    population = list(range(len(sampling_weights)))\n",
    "    for contexts in all_contexts:\n",
    "        negatives = []\n",
    "        while len(negatives) < len(contexts) * K:\n",
    "            if i == len(neg_candidates):\n",
    "                i, neg_candidates = 0, random.choices(\n",
    "                    population, sampling_weights, k=int(1e5))\n",
    "            neg, i = neg_candidates[i], i + 1\n",
    "            # Noise words cannot be context words\n",
    "            if neg not in set(contexts):\n",
    "                negatives.append(neg)\n",
    "        all_negatives.append(negatives)\n",
    "    return all_negatives\n",
    "\n",
    "sampling_weights = [counter[w]**0.75 for w in idx_to_token]\n",
    "all_negatives = get_negatives(all_contexts, sampling_weights, 5)\n"
   ]
  },
  {
   "cell_type": "code",
   "execution_count": 12,
   "metadata": {},
   "outputs": [],
   "source": [
    "#using mini batches gradient descent algorithm for the data reading process in a function \n",
    "def batchify(data):\n",
    "    max_len = max(len(c) + len(n) for _, c, n in data)\n",
    "    centers, contexts_negatives, masks, labels = [], [], [], []\n",
    "    for center, context, negative in data:\n",
    "        cur_len = len(context) + len(negative)\n",
    "        centers += [center]\n",
    "        contexts_negatives += [context + negative + [0] * (max_len - cur_len)]\n",
    "        masks += [[1] * cur_len + [0] * (max_len - cur_len)]\n",
    "        labels += [[1] * len(context) + [0] * (max_len - len(context))]\n",
    "    return (nd.array(centers).reshape((-1, 1)), nd.array(contexts_negatives),\n",
    "            nd.array(masks), nd.array(labels))"
   ]
  },
  {
   "cell_type": "code",
   "execution_count": 13,
   "metadata": {},
   "outputs": [
    {
     "name": "stdout",
     "output_type": "stream",
     "text": [
      "centers shape: (512, 1)\n",
      "contexts_negatives shape: (512, 60)\n",
      "masks shape: (512, 60)\n",
      "labels shape: (512, 60)\n"
     ]
    }
   ],
   "source": [
    "#We use the previously defined batchify function to specify the data loader instance \n",
    "#and print the shape of each variable into the first batch read\n",
    "batch_size = 512\n",
    "#Checks how many cpu are available\n",
    "num_workers = 0 if sys.platform.startswith('win32') else 4\n",
    "dataset = gdata.ArrayDataset(all_centers, all_contexts, all_negatives)\n",
    "data_iter = gdata.DataLoader(dataset, batch_size, shuffle=True,\n",
    "                             batchify_fn=batchify, num_workers=num_workers)\n",
    "\n",
    "for batch in data_iter:\n",
    "    for name, data in zip(['centers', 'contexts_negatives', 'masks',\n",
    "                           'labels'], batch):\n",
    "        print(name, 'shape:', data.shape)\n",
    "    break"
   ]
  },
  {
   "cell_type": "code",
   "execution_count": 14,
   "metadata": {},
   "outputs": [
    {
     "data": {
      "text/plain": [
       "Parameter embedding0_weight (shape=(20, 4), dtype=float32)"
      ]
     },
     "execution_count": 14,
     "metadata": {},
     "output_type": "execute_result"
    }
   ],
   "source": [
    "#Skip-Gram Model\n",
    "#Embedding a layer with a input size of 20 neurons and a output of 4\n",
    "embed = nn.Embedding(input_dim=20, output_dim=4)\n",
    "embed.initialize()\n",
    "embed.weight"
   ]
  },
  {
   "cell_type": "code",
   "execution_count": 15,
   "metadata": {},
   "outputs": [
    {
     "data": {
      "text/plain": [
       "\n",
       "[[[ 0.01438687  0.05011239  0.00628365  0.04861524]\n",
       "  [-0.01068833  0.01729892  0.02042518 -0.01618656]\n",
       "  [-0.00873779 -0.02834515  0.05484822 -0.06206018]]\n",
       "\n",
       " [[ 0.06491279 -0.03182812 -0.01631819 -0.00312688]\n",
       "  [ 0.0408415   0.04370362  0.00404529 -0.0028032 ]\n",
       "  [ 0.00952624 -0.01501013  0.05958354  0.04705103]]]\n",
       "<NDArray 2x3x4 @cpu(0)>"
      ]
     },
     "execution_count": 15,
     "metadata": {},
     "output_type": "execute_result"
    }
   ],
   "source": [
    "#The input of the embedding layer is the index of the context word\n",
    "x = nd.array([[1, 2, 3], [4, 5, 6]])\n",
    "embed(x)"
   ]
  },
  {
   "cell_type": "code",
   "execution_count": 16,
   "metadata": {},
   "outputs": [
    {
     "data": {
      "text/plain": [
       "(2, 1, 6)"
      ]
     },
     "execution_count": 16,
     "metadata": {},
     "output_type": "execute_result"
    }
   ],
   "source": [
    "#Mini Batch Multiplication\n",
    "X = nd.ones((2, 1, 4))\n",
    "Y = nd.ones((2, 4, 6))\n",
    "nd.batch_dot(X, Y).shape\n"
   ]
  },
  {
   "cell_type": "code",
   "execution_count": 17,
   "metadata": {},
   "outputs": [],
   "source": [
    "#Skip-Gram Forward Calculation\n",
    "def skip_gram(center, contexts_and_negatives, embed_v, embed_u):\n",
    "    v = embed_v(center)\n",
    "    u = embed_u(contexts_and_negatives)\n",
    "    pred = nd.batch_dot(v, u.swapaxes(1, 2))\n",
    "    return pred\n"
   ]
  },
  {
   "cell_type": "code",
   "execution_count": 18,
   "metadata": {},
   "outputs": [],
   "source": [
    "#We use Gluon's binary cross entropy loss function Sigmoid Binary Cross Entropy Loss\n",
    "loss = gloss.SigmoidBinaryCrossEntropyLoss()"
   ]
  },
  {
   "cell_type": "code",
   "execution_count": 19,
   "metadata": {},
   "outputs": [
    {
     "data": {
      "text/plain": [
       "\n",
       "[0.8739896 1.2099689]\n",
       "<NDArray 2 @cpu(0)>"
      ]
     },
     "execution_count": 19,
     "metadata": {},
     "output_type": "execute_result"
    }
   ],
   "source": [
    "#Mask functions are considerable\n",
    "pred = nd.array([[1.5, 0.3, -1, 2], [1.1, -0.6, 2.2, 0.4]])\n",
    "# 1 and 0 in the label variables label represent context words and the noise\n",
    "# words, respectively\n",
    "label = nd.array([[1, 0, 0, 0], [1, 1, 0, 0]])\n",
    "mask = nd.array([[1, 1, 1, 1], [1, 1, 1, 0]])  # Mask variable\n",
    "loss(pred, label, mask) * mask.shape[1] / mask.sum(axis=1)"
   ]
  },
  {
   "cell_type": "code",
   "execution_count": 20,
   "metadata": {},
   "outputs": [
    {
     "name": "stdout",
     "output_type": "stream",
     "text": [
      "0.8739896\n",
      "1.2099689\n"
     ]
    }
   ],
   "source": [
    "#binary cross-entropy loss function calculation to compare\n",
    "#and calculate the predicted value with a mask of 1 and the loss of the label based on the mask variable mask.\n",
    "def sigmd(x):\n",
    "    return -math.log(1 / (1 + math.exp(-x)))\n",
    "\n",
    "print('%.7f' % ((sigmd(1.5) + sigmd(-0.3) + sigmd(1) + sigmd(-2)) / 4))\n",
    "print('%.7f' % ((sigmd(1.1) + sigmd(-0.6) + sigmd(-2.2)) / 3))"
   ]
  },
  {
   "cell_type": "code",
   "execution_count": 21,
   "metadata": {},
   "outputs": [],
   "source": [
    "#Initialize Model Parameter with a size of 100, a sequential neural network\n",
    "embed_size = 100\n",
    "net = nn.Sequential()\n",
    "net.add(nn.Embedding(input_dim=len(idx_to_token), output_dim=embed_size),\n",
    "        nn.Embedding(input_dim=len(idx_to_token), output_dim=embed_size))"
   ]
  },
  {
   "cell_type": "code",
   "execution_count": 22,
   "metadata": {},
   "outputs": [],
   "source": [
    "#Function for the training process\n",
    "def train(net, lr, num_epochs):\n",
    "    ctx = d2l.try_gpu()\n",
    "    net.initialize(ctx=ctx, force_reinit=True)\n",
    "    trainer = gluon.Trainer(net.collect_params(), 'adam',\n",
    "                            {'learning_rate': lr})\n",
    "    for epoch in range(num_epochs):\n",
    "        start, l_sum, n = time.time(), 0.0, 0\n",
    "        for batch in data_iter:\n",
    "            center, context_negative, mask, label = [\n",
    "                data.as_in_context(ctx) for data in batch]\n",
    "            with autograd.record():\n",
    "                pred = skip_gram(center, context_negative, net[0], net[1])\n",
    "                # Use the mask variable to avoid the effect of padding on loss\n",
    "                # function calculations\n",
    "                l = (loss(pred.reshape(label.shape), label, mask) *\n",
    "                     mask.shape[1] / mask.sum(axis=1))\n",
    "            l.backward()\n",
    "            trainer.step(batch_size)\n",
    "            l_sum += l.sum().asscalar()\n",
    "            n += l.size\n",
    "        print('epoch %d, loss %.2f, time %.2fs'\n",
    "              % (epoch + 1, l_sum / n, time.time() - start))"
   ]
  },
  {
   "cell_type": "code",
   "execution_count": null,
   "metadata": {},
   "outputs": [],
   "source": [
    "#TRAIN!\n",
    "train(net, 0.005, 3)"
   ]
  },
  {
   "cell_type": "code",
   "execution_count": null,
   "metadata": {},
   "outputs": [],
   "source": [
    "#Gives similar token (our neural network)\n",
    "def get_similar_tokens(query_token, k, embed):\n",
    "    W = embed.weight.data()\n",
    "    x = W[token_to_idx[query_token]]\n",
    "    # The added 1e-9 is for numerical stability\n",
    "    cos = nd.dot(W, x) / (nd.sum(W * W, axis=1) * nd.sum(x * x) + 1e-9).sqrt()\n",
    "    topk = nd.topk(cos, k=k+1, ret_typ='indices').asnumpy().astype('int32')\n",
    "    for i in topk[1:]:  # Remove the input words\n",
    "        print('cosine sim=%.3f: %s' % (cos[i].asscalar(), (idx_to_token[i])))\n",
    "\n",
    "get_similar_tokens('tomato', 10, net[0])"
   ]
  },
  {
   "cell_type": "code",
   "execution_count": 23,
   "metadata": {},
   "outputs": [
    {
     "data": {
      "text/plain": [
       "'C:\\\\Users\\\\Gazt\\\\AppData\\\\Local\\\\Temp\\\\preProcessedData.txt'"
      ]
     },
     "execution_count": 23,
     "metadata": {},
     "output_type": "execute_result"
    }
   ],
   "source": [
    "#initilizing glove\n",
    "glove_file = datapath('./glove.6B.100d.txt')\n",
    "glove_file = './glove.6B.100d.txt'\n",
    "\n",
    "word2vec_glove_file = get_tmpfile(\"preProcessedData.txt\")\n",
    "word2vec_glove_file"
   ]
  },
  {
   "cell_type": "code",
   "execution_count": 24,
   "metadata": {},
   "outputs": [
    {
     "data": {
      "text/plain": [
       "(400000, 100)"
      ]
     },
     "execution_count": 24,
     "metadata": {},
     "output_type": "execute_result"
    }
   ],
   "source": [
    "#glove2word2vec\n",
    "glove2word2vec(glove_file, word2vec_glove_file)"
   ]
  },
  {
   "cell_type": "code",
   "execution_count": 25,
   "metadata": {},
   "outputs": [],
   "source": [
    "#training the glove model\n",
    "model = KeyedVectors.load_word2vec_format(word2vec_glove_file)"
   ]
  },
  {
   "cell_type": "markdown",
   "metadata": {},
   "source": [
    "As we can see below, the trained model gives us pretty good results for word similarity"
   ]
  },
  {
   "cell_type": "code",
   "execution_count": 26,
   "metadata": {},
   "outputs": [
    {
     "data": {
      "text/plain": [
       "[('sauce', 0.7973388433456421),\n",
       " ('avocado', 0.7904785871505737),\n",
       " ('eggplant', 0.7775974869728088),\n",
       " ('cucumber', 0.7695537805557251),\n",
       " ('onion', 0.7660188674926758),\n",
       " ('lettuce', 0.7573791742324829),\n",
       " ('watermelon', 0.7465941309928894),\n",
       " ('potato', 0.7453776597976685),\n",
       " ('soup', 0.735533595085144),\n",
       " ('mango', 0.7307522296905518)]"
      ]
     },
     "execution_count": 26,
     "metadata": {},
     "output_type": "execute_result"
    }
   ],
   "source": [
    "#gives similar tokens (glove)\n",
    "model.most_similar('tomato')"
   ]
  },
  {
   "cell_type": "markdown",
   "metadata": {},
   "source": [
    " Next we are creating our recipe function, which generates as many similar ingredients as wanted, based on a set of given ingredients"
   ]
  },
  {
   "cell_type": "code",
   "execution_count": 27,
   "metadata": {},
   "outputs": [],
   "source": [
    "#create recipe function\n",
    "def create_recipe(model,words,sample=0):\n",
    "    return words, model.most_similar(words)[:sample]"
   ]
  },
  {
   "cell_type": "markdown",
   "metadata": {},
   "source": [
    "For testing purposes we define different sets of ingredients..."
   ]
  },
  {
   "cell_type": "code",
   "execution_count": 28,
   "metadata": {},
   "outputs": [],
   "source": [
    "#defining 4 sets of words for testing purposes\n",
    "words = ['carrot', 'salt', 'oil', 'chicken','bread']\n",
    "words2 = ['flour', 'egg', 'strawberry']\n",
    "words3 = ['salt', 'rice', 'garlic','curry']\n",
    "words4 = ['banana','curry','rice']"
   ]
  },
  {
   "cell_type": "markdown",
   "metadata": {},
   "source": [
    "and our proposel function below"
   ]
  },
  {
   "cell_type": "code",
   "execution_count": 29,
   "metadata": {},
   "outputs": [
    {
     "data": {
      "text/plain": [
       "(['carrot', 'salt', 'oil', 'chicken', 'bread'],\n",
       " [('butter', 0.8067049980163574),\n",
       "  ('garlic', 0.7763496041297913),\n",
       "  ('onion', 0.7645821571350098),\n",
       "  ('vegetable', 0.7586125731468201),\n",
       "  ('sugar', 0.7478333711624146)])"
      ]
     },
     "execution_count": 29,
     "metadata": {},
     "output_type": "execute_result"
    }
   ],
   "source": [
    "#recipe 1\n",
    "create_recipe(model,words,5)"
   ]
  },
  {
   "cell_type": "code",
   "execution_count": 30,
   "metadata": {},
   "outputs": [
    {
     "data": {
      "text/plain": [
       "(['flour', 'egg', 'strawberry'],\n",
       " [('cream', 0.795329213142395),\n",
       "  ('butter', 0.7796475887298584),\n",
       "  ('bread', 0.754692792892456),\n",
       "  ('sugar', 0.7499966621398926),\n",
       "  ('milk', 0.747291088104248)])"
      ]
     },
     "execution_count": 30,
     "metadata": {},
     "output_type": "execute_result"
    }
   ],
   "source": [
    "#recipe 2\n",
    "create_recipe(model,words2,5)"
   ]
  },
  {
   "cell_type": "code",
   "execution_count": 31,
   "metadata": {},
   "outputs": [
    {
     "data": {
      "text/plain": [
       "(['salt', 'rice', 'garlic', 'curry'],\n",
       " [('pepper', 0.8080397844314575),\n",
       "  ('onion', 0.7354762554168701),\n",
       "  ('sugar', 0.7323951125144958),\n",
       "  ('chili', 0.7305773496627808),\n",
       "  ('sauce', 0.7283685803413391)])"
      ]
     },
     "execution_count": 31,
     "metadata": {},
     "output_type": "execute_result"
    }
   ],
   "source": [
    "#recipe 3\n",
    "create_recipe(model,words3,5)"
   ]
  },
  {
   "cell_type": "code",
   "execution_count": 32,
   "metadata": {},
   "outputs": [
    {
     "data": {
      "text/plain": [
       "(['banana', 'curry', 'rice'],\n",
       " [('bean', 0.7592380046844482),\n",
       "  ('coconut', 0.7236413359642029),\n",
       "  ('potato', 0.7230938673019409),\n",
       "  ('corn', 0.720425009727478),\n",
       "  ('sugar', 0.7177786231040955)])"
      ]
     },
     "execution_count": 32,
     "metadata": {},
     "output_type": "execute_result"
    }
   ],
   "source": [
    "#recipe 4\n",
    "create_recipe(model,words4,5)"
   ]
  },
  {
   "cell_type": "code",
   "execution_count": 33,
   "metadata": {},
   "outputs": [],
   "source": [
    "#Initilizing Word2Vec\n",
    "modelW2V = Word2Vec(ingredients, min_count=2,size= 300, window =5, sg = 1,negative=15,hs=0,iter=1)\n",
    "wordVector = modelW2V.wv"
   ]
  },
  {
   "cell_type": "code",
   "execution_count": 35,
   "metadata": {},
   "outputs": [
    {
     "data": {
      "text/plain": [
       "(['salt', 'rice', 'garlic', 'curry'],\n",
       " [('wasabi', 0.9117565751075745),\n",
       "  ('heaping', 0.9116976261138916),\n",
       "  ('pinches', 0.9083110094070435),\n",
       "  ('garam', 0.9080813527107239)])"
      ]
     },
     "execution_count": 35,
     "metadata": {},
     "output_type": "execute_result"
    }
   ],
   "source": [
    "#Recipe based on Word2Vec\n",
    "create_recipe(wordVector,words3,4)"
   ]
  },
  {
   "cell_type": "code",
   "execution_count": 36,
   "metadata": {},
   "outputs": [
    {
     "name": "stderr",
     "output_type": "stream",
     "text": [
      "D:\\ProgramFiles\\Anaconda\\lib\\site-packages\\ipykernel_launcher.py:1: DeprecationWarning: Call to deprecated `most_similar` (Method will be removed in 4.0.0, use self.wv.most_similar() instead).\n",
      "  \"\"\"Entry point for launching an IPython kernel.\n"
     ]
    },
    {
     "data": {
      "text/plain": [
       "[('plum', 0.8487071394920349),\n",
       " ('Italianstyle', 0.8190993070602417),\n",
       " ('vineripened', 0.8152807950973511),\n",
       " ('jalapeños', 0.8149125576019287),\n",
       " ('anchovies', 0.813493013381958),\n",
       " ('heaping', 0.8043901324272156),\n",
       " ('stewed', 0.8025950193405151),\n",
       " ('puréed', 0.7992008924484253),\n",
       " ('purée', 0.7988237738609314),\n",
       " ('brine', 0.7939332127571106)]"
      ]
     },
     "execution_count": 36,
     "metadata": {},
     "output_type": "execute_result"
    }
   ],
   "source": [
    "#MoSt similar Word2Vec tomato\n",
    "modelW2V.most_similar(\"tomato\")"
   ]
  },
  {
   "cell_type": "code",
   "execution_count": 60,
   "metadata": {},
   "outputs": [],
   "source": [
    "#Function TSNE Scatterplot\n",
    "def display_closestwords_tsnescatterplot(model, words, samples):\n",
    "    \n",
    "    arr = np.empty((0,300), dtype='f')\n",
    "    word_labels = []\n",
    "\n",
    "    # get close words\n",
    "    for word in words:\n",
    "        \n",
    "        word_labels.append(word)\n",
    "        close_words = model.similar_by_word(word)[:samples]\n",
    "    \n",
    "    # add the vector for each of the closest words to the array\n",
    "        arr = np.append(arr, np.array([model[word]]), axis=0)\n",
    "        for wrd_score in close_words:\n",
    "            wrd_vector = model[wrd_score[0]]\n",
    "            word_labels.append(wrd_score[0])\n",
    "            arr = np.append(arr, np.array([wrd_vector]), axis=0)\n",
    "        \n",
    "    # find tsne coords for 2 dimensions\n",
    "    tsne = TSNE(n_components=2, random_state=10, perplexity=5)\n",
    "    np.set_printoptions(suppress=True)\n",
    "    Y = tsne.fit_transform(arr)\n",
    "\n",
    "    x_coords = Y[:, 0]\n",
    "    y_coords = Y[:, 1]\n",
    "    # display scatter plot\n",
    "    plt.scatter(x_coords, y_coords)\n",
    "\n",
    "    for label, x, y in zip(word_labels, x_coords, y_coords):\n",
    "        plt.annotate(label, xy=(x, y), xytext=(0, 0), textcoords='offset points')\n",
    "    plt.xlim(x_coords.min()+0.00005, x_coords.max()+0.00005)\n",
    "    plt.ylim(y_coords.min()+0.00005, y_coords.max()+0.00005)\n",
    "    plt.show()"
   ]
  },
  {
   "cell_type": "code",
   "execution_count": 61,
   "metadata": {},
   "outputs": [
    {
     "data": {
      "image/png": "[encoded data removed]",
      "text/plain": [
       "<Figure size 432x288 with 1 Axes>"
      ]
     },
     "metadata": {
      "needs_background": "light"
     },
     "output_type": "display_data"
    },
    {
     "data": {
      "text/plain": [
       "['salt', 'rice', 'garlic', 'curry']"
      ]
     },
     "execution_count": 61,
     "metadata": {},
     "output_type": "execute_result"
    }
   ],
   "source": [
    "#Scatterplot for words3 and 3 most similar words each\n",
    "display_closestwords_tsnescatterplot(wordVector, words3,3)\n",
    "words3"
   ]
  }
 ],
 "metadata": {
  "kernelspec": {
   "display_name": "Python 3",
   "language": "python",
   "name": "python3"
  },
  "language_info": {
   "codemirror_mode": {
    "name": "ipython",
    "version": 3
   },
   "file_extension": ".py",
   "mimetype": "text/x-python",
   "name": "python",
   "nbconvert_exporter": "python",
   "pygments_lexer": "ipython3",
   "version": "3.7.1"
  }
 },
 "nbformat": 4,
 "nbformat_minor": 2
}
